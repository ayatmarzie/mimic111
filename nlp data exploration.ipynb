{
 "cells": [
  {
   "cell_type": "code",
   "execution_count": 2,
   "metadata": {},
   "outputs": [],
   "source": [
    "import pandas as pd"
   ]
  },
  {
   "cell_type": "code",
   "execution_count": 3,
   "metadata": {
    "scrolled": true
   },
   "outputs": [],
   "source": [
    "import csv\n",
    "notes = pd.read_csv('NOTEEVENTS-2.csv')"
   ]
  },
  {
   "cell_type": "code",
   "execution_count": 4,
   "metadata": {},
   "outputs": [],
   "source": [
    "#import dask.dataframe as dd\n",
    "#notes_d = dd.read_csv('NOTEEVENTS.csv')"
   ]
  },
  {
   "cell_type": "code",
   "execution_count": 5,
   "metadata": {},
   "outputs": [
    {
     "data": {
      "text/plain": [
       "Index(['row_id', 'subject_id', 'hadm_id', 'chartdate', 'category',\n",
       "       'description', 'cgid', 'iserror', 'text'],\n",
       "      dtype='object')"
      ]
     },
     "execution_count": 5,
     "metadata": {},
     "output_type": "execute_result"
    }
   ],
   "source": [
    "notes.columns"
   ]
  },
  {
   "cell_type": "code",
   "execution_count": 6,
   "metadata": {},
   "outputs": [
    {
     "data": {
      "text/html": [
       "<div>\n",
       "<style scoped>\n",
       "    .dataframe tbody tr th:only-of-type {\n",
       "        vertical-align: middle;\n",
       "    }\n",
       "\n",
       "    .dataframe tbody tr th {\n",
       "        vertical-align: top;\n",
       "    }\n",
       "\n",
       "    .dataframe thead th {\n",
       "        text-align: right;\n",
       "    }\n",
       "</style>\n",
       "<table border=\"1\" class=\"dataframe\">\n",
       "  <thead>\n",
       "    <tr style=\"text-align: right;\">\n",
       "      <th></th>\n",
       "      <th>row_id</th>\n",
       "      <th>subject_id</th>\n",
       "      <th>hadm_id</th>\n",
       "      <th>cgid</th>\n",
       "      <th>iserror</th>\n",
       "    </tr>\n",
       "  </thead>\n",
       "  <tbody>\n",
       "    <tr>\n",
       "      <td>count</td>\n",
       "      <td>2.083180e+06</td>\n",
       "      <td>2.083180e+06</td>\n",
       "      <td>1.851344e+06</td>\n",
       "      <td>1.246404e+06</td>\n",
       "      <td>886.0</td>\n",
       "    </tr>\n",
       "    <tr>\n",
       "      <td>mean</td>\n",
       "      <td>1.041590e+06</td>\n",
       "      <td>3.242564e+04</td>\n",
       "      <td>1.498796e+05</td>\n",
       "      <td>1.771630e+04</td>\n",
       "      <td>1.0</td>\n",
       "    </tr>\n",
       "    <tr>\n",
       "      <td>std</td>\n",
       "      <td>6.013624e+05</td>\n",
       "      <td>2.755425e+04</td>\n",
       "      <td>2.878059e+04</td>\n",
       "      <td>2.158703e+03</td>\n",
       "      <td>0.0</td>\n",
       "    </tr>\n",
       "    <tr>\n",
       "      <td>min</td>\n",
       "      <td>1.000000e+00</td>\n",
       "      <td>2.000000e+00</td>\n",
       "      <td>1.000010e+05</td>\n",
       "      <td>1.401000e+04</td>\n",
       "      <td>1.0</td>\n",
       "    </tr>\n",
       "    <tr>\n",
       "      <td>25%</td>\n",
       "      <td>5.207958e+05</td>\n",
       "      <td>1.146500e+04</td>\n",
       "      <td>1.251950e+05</td>\n",
       "      <td>1.580300e+04</td>\n",
       "      <td>1.0</td>\n",
       "    </tr>\n",
       "    <tr>\n",
       "      <td>50%</td>\n",
       "      <td>1.041590e+06</td>\n",
       "      <td>2.344400e+04</td>\n",
       "      <td>1.496010e+05</td>\n",
       "      <td>1.759300e+04</td>\n",
       "      <td>1.0</td>\n",
       "    </tr>\n",
       "    <tr>\n",
       "      <td>75%</td>\n",
       "      <td>1.562385e+06</td>\n",
       "      <td>5.077200e+04</td>\n",
       "      <td>1.748120e+05</td>\n",
       "      <td>1.959900e+04</td>\n",
       "      <td>1.0</td>\n",
       "    </tr>\n",
       "    <tr>\n",
       "      <td>max</td>\n",
       "      <td>2.083180e+06</td>\n",
       "      <td>9.999900e+04</td>\n",
       "      <td>1.999990e+05</td>\n",
       "      <td>2.157000e+04</td>\n",
       "      <td>1.0</td>\n",
       "    </tr>\n",
       "  </tbody>\n",
       "</table>\n",
       "</div>"
      ],
      "text/plain": [
       "             row_id    subject_id       hadm_id          cgid  iserror\n",
       "count  2.083180e+06  2.083180e+06  1.851344e+06  1.246404e+06    886.0\n",
       "mean   1.041590e+06  3.242564e+04  1.498796e+05  1.771630e+04      1.0\n",
       "std    6.013624e+05  2.755425e+04  2.878059e+04  2.158703e+03      0.0\n",
       "min    1.000000e+00  2.000000e+00  1.000010e+05  1.401000e+04      1.0\n",
       "25%    5.207958e+05  1.146500e+04  1.251950e+05  1.580300e+04      1.0\n",
       "50%    1.041590e+06  2.344400e+04  1.496010e+05  1.759300e+04      1.0\n",
       "75%    1.562385e+06  5.077200e+04  1.748120e+05  1.959900e+04      1.0\n",
       "max    2.083180e+06  9.999900e+04  1.999990e+05  2.157000e+04      1.0"
      ]
     },
     "execution_count": 6,
     "metadata": {},
     "output_type": "execute_result"
    }
   ],
   "source": [
    "notes.describe()"
   ]
  },
  {
   "cell_type": "code",
   "execution_count": 7,
   "metadata": {},
   "outputs": [
    {
     "data": {
      "text/html": [
       "<div>\n",
       "<style scoped>\n",
       "    .dataframe tbody tr th:only-of-type {\n",
       "        vertical-align: middle;\n",
       "    }\n",
       "\n",
       "    .dataframe tbody tr th {\n",
       "        vertical-align: top;\n",
       "    }\n",
       "\n",
       "    .dataframe thead th {\n",
       "        text-align: right;\n",
       "    }\n",
       "</style>\n",
       "<table border=\"1\" class=\"dataframe\">\n",
       "  <thead>\n",
       "    <tr style=\"text-align: right;\">\n",
       "      <th></th>\n",
       "      <th>row_id</th>\n",
       "      <th>subject_id</th>\n",
       "      <th>hadm_id</th>\n",
       "      <th>chartdate</th>\n",
       "      <th>category</th>\n",
       "      <th>description</th>\n",
       "      <th>cgid</th>\n",
       "      <th>iserror</th>\n",
       "      <th>text</th>\n",
       "    </tr>\n",
       "  </thead>\n",
       "  <tbody>\n",
       "    <tr>\n",
       "      <td>0</td>\n",
       "      <td>776</td>\n",
       "      <td>20007</td>\n",
       "      <td>188442.0</td>\n",
       "      <td>2183-10-29 00:00:00</td>\n",
       "      <td>Discharge summary</td>\n",
       "      <td>Report</td>\n",
       "      <td>NaN</td>\n",
       "      <td>NaN</td>\n",
       "      <td>Admission Date:  [**2183-9-25**]       Dischar...</td>\n",
       "    </tr>\n",
       "    <tr>\n",
       "      <td>1</td>\n",
       "      <td>777</td>\n",
       "      <td>20007</td>\n",
       "      <td>193793.0</td>\n",
       "      <td>2184-01-20 00:00:00</td>\n",
       "      <td>Discharge summary</td>\n",
       "      <td>Report</td>\n",
       "      <td>NaN</td>\n",
       "      <td>NaN</td>\n",
       "      <td>Admission Date:  [**2184-1-16**]       Dischar...</td>\n",
       "    </tr>\n",
       "    <tr>\n",
       "      <td>2</td>\n",
       "      <td>778</td>\n",
       "      <td>59883</td>\n",
       "      <td>118446.0</td>\n",
       "      <td>2103-04-18 00:00:00</td>\n",
       "      <td>Discharge summary</td>\n",
       "      <td>Report</td>\n",
       "      <td>NaN</td>\n",
       "      <td>NaN</td>\n",
       "      <td>Admission Date:  [**2103-4-11**]              ...</td>\n",
       "    </tr>\n",
       "    <tr>\n",
       "      <td>3</td>\n",
       "      <td>779</td>\n",
       "      <td>17043</td>\n",
       "      <td>157985.0</td>\n",
       "      <td>2103-10-11 00:00:00</td>\n",
       "      <td>Discharge summary</td>\n",
       "      <td>Report</td>\n",
       "      <td>NaN</td>\n",
       "      <td>NaN</td>\n",
       "      <td>Admission Date:  [**2103-10-7**]       Dischar...</td>\n",
       "    </tr>\n",
       "    <tr>\n",
       "      <td>4</td>\n",
       "      <td>785</td>\n",
       "      <td>7019</td>\n",
       "      <td>189488.0</td>\n",
       "      <td>2131-04-06 00:00:00</td>\n",
       "      <td>Discharge summary</td>\n",
       "      <td>Report</td>\n",
       "      <td>NaN</td>\n",
       "      <td>NaN</td>\n",
       "      <td>Admission Date:  [**2131-4-2**]              D...</td>\n",
       "    </tr>\n",
       "  </tbody>\n",
       "</table>\n",
       "</div>"
      ],
      "text/plain": [
       "   row_id  subject_id   hadm_id            chartdate           category  \\\n",
       "0     776       20007  188442.0  2183-10-29 00:00:00  Discharge summary   \n",
       "1     777       20007  193793.0  2184-01-20 00:00:00  Discharge summary   \n",
       "2     778       59883  118446.0  2103-04-18 00:00:00  Discharge summary   \n",
       "3     779       17043  157985.0  2103-10-11 00:00:00  Discharge summary   \n",
       "4     785        7019  189488.0  2131-04-06 00:00:00  Discharge summary   \n",
       "\n",
       "  description  cgid  iserror  \\\n",
       "0      Report   NaN      NaN   \n",
       "1      Report   NaN      NaN   \n",
       "2      Report   NaN      NaN   \n",
       "3      Report   NaN      NaN   \n",
       "4      Report   NaN      NaN   \n",
       "\n",
       "                                                text  \n",
       "0  Admission Date:  [**2183-9-25**]       Dischar...  \n",
       "1  Admission Date:  [**2184-1-16**]       Dischar...  \n",
       "2  Admission Date:  [**2103-4-11**]              ...  \n",
       "3  Admission Date:  [**2103-10-7**]       Dischar...  \n",
       "4  Admission Date:  [**2131-4-2**]              D...  "
      ]
     },
     "execution_count": 7,
     "metadata": {},
     "output_type": "execute_result"
    }
   ],
   "source": [
    "notes.head()"
   ]
  },
  {
   "cell_type": "code",
   "execution_count": 8,
   "metadata": {},
   "outputs": [
    {
     "data": {
      "text/plain": [
       "array(['Discharge summary', 'Echo', 'ECG', 'Nursing', 'Physician ',\n",
       "       'Rehab Services', 'Case Management ', 'Respiratory ', 'Nutrition',\n",
       "       'General', 'Social Work', 'Pharmacy', 'Consult', 'Radiology',\n",
       "       'Nursing/other'], dtype=object)"
      ]
     },
     "execution_count": 8,
     "metadata": {},
     "output_type": "execute_result"
    }
   ],
   "source": [
    "notes.category.unique()"
   ]
  },
  {
   "cell_type": "code",
   "execution_count": 9,
   "metadata": {},
   "outputs": [
    {
     "data": {
      "text/plain": [
       "array([   nan, 15526., 16934., ..., 14163., 18513., 19534.])"
      ]
     },
     "execution_count": 9,
     "metadata": {},
     "output_type": "execute_result"
    }
   ],
   "source": [
    "notes.cgid.unique()"
   ]
  },
  {
   "cell_type": "code",
   "execution_count": 10,
   "metadata": {},
   "outputs": [
    {
     "data": {
      "text/plain": [
       "array([188442., 193793., 118446., ..., 115098., 175166., 185458.])"
      ]
     },
     "execution_count": 10,
     "metadata": {},
     "output_type": "execute_result"
    }
   ],
   "source": [
    "notes.hadm_id.unique()"
   ]
  },
  {
   "cell_type": "code",
   "execution_count": 11,
   "metadata": {},
   "outputs": [
    {
     "data": {
      "text/plain": [
       "58362"
      ]
     },
     "execution_count": 11,
     "metadata": {},
     "output_type": "execute_result"
    }
   ],
   "source": [
    "len(notes.hadm_id.unique())"
   ]
  },
  {
   "cell_type": "code",
   "execution_count": 12,
   "metadata": {},
   "outputs": [
    {
     "data": {
      "text/plain": [
       "3848"
      ]
     },
     "execution_count": 12,
     "metadata": {},
     "output_type": "execute_result"
    }
   ],
   "source": [
    "notes.description.nunique()"
   ]
  },
  {
   "cell_type": "code",
   "execution_count": 13,
   "metadata": {},
   "outputs": [
    {
     "data": {
      "text/plain": [
       "row_id                                                       777\n",
       "subject_id                                                 20007\n",
       "hadm_id                                                   193793\n",
       "chartdate                                    2184-01-20 00:00:00\n",
       "category                                       Discharge summary\n",
       "description                                               Report\n",
       "cgid                                                         NaN\n",
       "iserror                                                      NaN\n",
       "text           Admission Date:  [**2184-1-16**]       Dischar...\n",
       "Name: 1, dtype: object"
      ]
     },
     "execution_count": 13,
     "metadata": {},
     "output_type": "execute_result"
    }
   ],
   "source": [
    "notes.iloc[1,:]"
   ]
  },
  {
   "cell_type": "code",
   "execution_count": 14,
   "metadata": {},
   "outputs": [
    {
     "data": {
      "text/plain": [
       "<PandasArray>\n",
       "['[**Last Name (LF) **],[**First Name3 (LF) **]                       EU                         [**2166-10-9**]  8:24 PM  CTA HEAD W&W/O C & RECONS; CTA NECK W&W/OC & RECONS             Clip # [**Clip Number (Radiology) 38938**]  CT BRAIN PERFUSION; -59 DISTINCT PROCEDURAL SERVICE  Reason: eval for ICH/CVA   Contrast: OPTIRAY Amt: 110  ______________________________________________________________________________  [**Hospital 2**] MEDICAL CONDITION:   86 year old woman with new onset dysarthria, last known well at 1530  REASON FOR THIS EXAMINATION:   eval for ICH/CVA  No contraindications for IV contrast  ______________________________________________________________________________                                   PFI REPORT  1.  No evidence of acute infarct, or intracranial hemorrhage in brain.  2.  No evidence of focal flow-limiting stenosis, occlusion, or aneurysm  greater than 3 mm in arteries of anterior and posterior circulation of head.  3.  Calcified plaque at the left distal common carotid artery causing  approximately 25% stenosis. ']\n",
       "Length: 1, dtype: object"
      ]
     },
     "execution_count": 14,
     "metadata": {},
     "output_type": "execute_result"
    }
   ],
   "source": [
    "notes[notes['category']=='Radiology']['text'].head(1).array"
   ]
  },
  {
   "cell_type": "code",
   "execution_count": 15,
   "metadata": {},
   "outputs": [
    {
     "data": {
      "text/html": [
       "<div>\n",
       "<style scoped>\n",
       "    .dataframe tbody tr th:only-of-type {\n",
       "        vertical-align: middle;\n",
       "    }\n",
       "\n",
       "    .dataframe tbody tr th {\n",
       "        vertical-align: top;\n",
       "    }\n",
       "\n",
       "    .dataframe thead th {\n",
       "        text-align: right;\n",
       "    }\n",
       "</style>\n",
       "<table border=\"1\" class=\"dataframe\">\n",
       "  <thead>\n",
       "    <tr style=\"text-align: right;\">\n",
       "      <th></th>\n",
       "      <th>row_id</th>\n",
       "      <th>subject_id</th>\n",
       "      <th>hadm_id</th>\n",
       "      <th>chartdate</th>\n",
       "      <th>category</th>\n",
       "      <th>description</th>\n",
       "      <th>cgid</th>\n",
       "      <th>iserror</th>\n",
       "      <th>text</th>\n",
       "    </tr>\n",
       "    <tr>\n",
       "      <th>hadm_id</th>\n",
       "      <th></th>\n",
       "      <th></th>\n",
       "      <th></th>\n",
       "      <th></th>\n",
       "      <th></th>\n",
       "      <th></th>\n",
       "      <th></th>\n",
       "      <th></th>\n",
       "      <th></th>\n",
       "    </tr>\n",
       "  </thead>\n",
       "  <tbody>\n",
       "    <tr>\n",
       "      <td>100001.0</td>\n",
       "      <td>2</td>\n",
       "      <td>1</td>\n",
       "      <td>1</td>\n",
       "      <td>2</td>\n",
       "      <td>2</td>\n",
       "      <td>2</td>\n",
       "      <td>0</td>\n",
       "      <td>0</td>\n",
       "      <td>2</td>\n",
       "    </tr>\n",
       "    <tr>\n",
       "      <td>100003.0</td>\n",
       "      <td>26</td>\n",
       "      <td>1</td>\n",
       "      <td>1</td>\n",
       "      <td>4</td>\n",
       "      <td>6</td>\n",
       "      <td>9</td>\n",
       "      <td>9</td>\n",
       "      <td>0</td>\n",
       "      <td>24</td>\n",
       "    </tr>\n",
       "    <tr>\n",
       "      <td>100006.0</td>\n",
       "      <td>22</td>\n",
       "      <td>1</td>\n",
       "      <td>1</td>\n",
       "      <td>10</td>\n",
       "      <td>5</td>\n",
       "      <td>5</td>\n",
       "      <td>2</td>\n",
       "      <td>0</td>\n",
       "      <td>22</td>\n",
       "    </tr>\n",
       "    <tr>\n",
       "      <td>100007.0</td>\n",
       "      <td>9</td>\n",
       "      <td>1</td>\n",
       "      <td>1</td>\n",
       "      <td>6</td>\n",
       "      <td>3</td>\n",
       "      <td>1</td>\n",
       "      <td>6</td>\n",
       "      <td>0</td>\n",
       "      <td>9</td>\n",
       "    </tr>\n",
       "    <tr>\n",
       "      <td>100009.0</td>\n",
       "      <td>8</td>\n",
       "      <td>1</td>\n",
       "      <td>1</td>\n",
       "      <td>5</td>\n",
       "      <td>4</td>\n",
       "      <td>5</td>\n",
       "      <td>0</td>\n",
       "      <td>0</td>\n",
       "      <td>8</td>\n",
       "    </tr>\n",
       "    <tr>\n",
       "      <td>...</td>\n",
       "      <td>...</td>\n",
       "      <td>...</td>\n",
       "      <td>...</td>\n",
       "      <td>...</td>\n",
       "      <td>...</td>\n",
       "      <td>...</td>\n",
       "      <td>...</td>\n",
       "      <td>...</td>\n",
       "      <td>...</td>\n",
       "    </tr>\n",
       "    <tr>\n",
       "      <td>199993.0</td>\n",
       "      <td>78</td>\n",
       "      <td>1</td>\n",
       "      <td>1</td>\n",
       "      <td>26</td>\n",
       "      <td>4</td>\n",
       "      <td>2</td>\n",
       "      <td>18</td>\n",
       "      <td>0</td>\n",
       "      <td>78</td>\n",
       "    </tr>\n",
       "    <tr>\n",
       "      <td>199994.0</td>\n",
       "      <td>29</td>\n",
       "      <td>1</td>\n",
       "      <td>1</td>\n",
       "      <td>9</td>\n",
       "      <td>4</td>\n",
       "      <td>2</td>\n",
       "      <td>8</td>\n",
       "      <td>0</td>\n",
       "      <td>29</td>\n",
       "    </tr>\n",
       "    <tr>\n",
       "      <td>199995.0</td>\n",
       "      <td>27</td>\n",
       "      <td>1</td>\n",
       "      <td>1</td>\n",
       "      <td>13</td>\n",
       "      <td>5</td>\n",
       "      <td>10</td>\n",
       "      <td>3</td>\n",
       "      <td>0</td>\n",
       "      <td>27</td>\n",
       "    </tr>\n",
       "    <tr>\n",
       "      <td>199998.0</td>\n",
       "      <td>12</td>\n",
       "      <td>1</td>\n",
       "      <td>1</td>\n",
       "      <td>5</td>\n",
       "      <td>5</td>\n",
       "      <td>6</td>\n",
       "      <td>3</td>\n",
       "      <td>0</td>\n",
       "      <td>12</td>\n",
       "    </tr>\n",
       "    <tr>\n",
       "      <td>199999.0</td>\n",
       "      <td>12</td>\n",
       "      <td>1</td>\n",
       "      <td>1</td>\n",
       "      <td>7</td>\n",
       "      <td>3</td>\n",
       "      <td>4</td>\n",
       "      <td>0</td>\n",
       "      <td>0</td>\n",
       "      <td>12</td>\n",
       "    </tr>\n",
       "  </tbody>\n",
       "</table>\n",
       "<p>58361 rows × 9 columns</p>\n",
       "</div>"
      ],
      "text/plain": [
       "          row_id  subject_id  hadm_id  chartdate  category  description  cgid  \\\n",
       "hadm_id                                                                         \n",
       "100001.0       2           1        1          2         2            2     0   \n",
       "100003.0      26           1        1          4         6            9     9   \n",
       "100006.0      22           1        1         10         5            5     2   \n",
       "100007.0       9           1        1          6         3            1     6   \n",
       "100009.0       8           1        1          5         4            5     0   \n",
       "...          ...         ...      ...        ...       ...          ...   ...   \n",
       "199993.0      78           1        1         26         4            2    18   \n",
       "199994.0      29           1        1          9         4            2     8   \n",
       "199995.0      27           1        1         13         5           10     3   \n",
       "199998.0      12           1        1          5         5            6     3   \n",
       "199999.0      12           1        1          7         3            4     0   \n",
       "\n",
       "          iserror  text  \n",
       "hadm_id                  \n",
       "100001.0        0     2  \n",
       "100003.0        0    24  \n",
       "100006.0        0    22  \n",
       "100007.0        0     9  \n",
       "100009.0        0     8  \n",
       "...           ...   ...  \n",
       "199993.0        0    78  \n",
       "199994.0        0    29  \n",
       "199995.0        0    27  \n",
       "199998.0        0    12  \n",
       "199999.0        0    12  \n",
       "\n",
       "[58361 rows x 9 columns]"
      ]
     },
     "execution_count": 15,
     "metadata": {},
     "output_type": "execute_result"
    }
   ],
   "source": [
    "notes.groupby(\"hadm_id\").nunique()"
   ]
  },
  {
   "cell_type": "code",
   "execution_count": 16,
   "metadata": {},
   "outputs": [
    {
     "data": {
      "text/plain": [
       "'Chief Complaint:    HPI:    24 Hour Events:    awaiting bed on liver service, stable    no s/sx bleeding    Allergies:    No Known Drug Allergies    Last dose of Antibiotics:    Ceftriaxone - [**2150-4-18**] 10:02 PM    Vancomycin - [**2150-4-19**] 08:33 AM    Infusions:    Other ICU medications:    Pantoprazole (Protonix) - [**2150-4-18**] 08:21 PM    Other medications:    lactulose    Changes to medical and family history:    Review of systems is unchanged from admission except as noted below    Review of systems:    Flowsheet Data as of  [**2150-4-19**] 09:53 AM    Vital signs    Hemodynamic monitoring    Fluid balance                                                                   24 hours                                                                Since 12 AM    Tmax: 36.7 C (98    Tcurrent: 36.6 C (97.8    HR: 93 (72 - 93) bpm    BP: 139/67(83) {106/43(60) - 149/89(96)} mmHg    RR: 18 (12 - 23) insp/min    SpO2: 86%    Heart rhythm: SR (Sinus Rhythm)              Total In:                                                                   1,187 mL                                                                     298 mL    PO:              TF:    IVF:                                                                     919 mL                                                                     298 mL    Blood products:                                                                     269 mL    Total out:                                                                   2,615 mL                                                                   1,675 mL    Urine:                                                                   2,615 mL                                                                   1,675 mL    NG:    Stool:    Drains:    Balance:                                                                  -1,428 mL                                                                  -1,377 mL    Respiratory support    SpO2: 86%    ABG: ///18/    Physical Examination    General Appearance: Well nourished    Eyes / Conjunctiva: PERRL    Head, Ears, Nose, Throat: Normocephalic    Cardiovascular: (S1: Normal), (S2: Normal)    Peripheral Vascular: (Right radial pulse: Present), (Left radial pulse:    Present), (Right DP pulse: Present), (Left DP pulse: Present)    Respiratory / Chest: (Breath Sounds: Clear : )    Extremities: Right: Trace, Left: Trace    Skin:  Cool    Neurologic: Attentive, Responds to: Not assessed, Movement: Not    assessed, Tone: Not assessed    Labs / Radiology    9.6 g/dL    132 K/uL    135 mg/dL    1.0 mg/dL    18 mEq/L    4.3 mEq/L    27 mg/dL    107 mEq/L    133 mEq/L    28.1 %    12.7 K/uL         [image002.jpg]                              [**2150-4-17**]  06:41 PM                              [**2150-4-17**]  07:12 PM                              [**2150-4-17**]  09:04 PM                              [**2150-4-18**]  03:20 AM                              [**2150-4-18**]  06:25 AM                              [**2150-4-18**]  11:10 AM                              [**2150-4-18**]  06:40 PM                              [**2150-4-19**]  04:32 AM    WBC    13.4    14.2    14.2    12.7    Hct    21.3    23    28.0    31.8    28.9    29.5    28.8    28.1    Plt    148    162    162    132    Cr    1.2    1.1    1.0    TropT    <0.01    <0.01    TCO2    17    Glucose    56    113    135    Other labs: PT / PTT / INR:17.2/33.3/1.6, CK / CKMB /    Troponin-T:218/9/<0.01, ALT / AST:116/236, Alk Phos / T Bili:115/3.1,    Differential-Neuts:60.5 %, Lymph:29.6 %, Mono:6.7 %, Eos:2.8 %,    Fibrinogen:191 mg/dL, Lactic Acid:1.1 mmol/L, Albumin:2.3 g/dL, LDH:386    IU/L, Ca++:8.1 mg/dL, Mg++:1.7 mg/dL, PO4:2.7 mg/dL    Assessment and Plan    59 yo M HCV cirrhosis presents with gradual GI bleed, now stable    1. GIB:     -hct  stable no further bleeding     - NPO p MN tonight for EGD tomorrow     - change PPI to PO     - d/c IJ    2. Cirrhosis:     - restarting lasix/spironolactone    3. ? infection:     - d/c vanc/ctx as cultures are negative    4. FEN:     - house diet    ICU Care    Nutrition:    Glycemic Control:    Lines:    18 Gauge - [**2150-4-17**] 05:56 PM    16 Gauge - [**2150-4-17**] 06:05 PM    Multi Lumen - [**2150-4-17**] 08:00 PM    Prophylaxis:    DVT:    Stress ulcer: PPI    VAP:    Comments:    Communication: Patient discussed on interdisciplinary rounds , ICU    Code status: Full code    Disposition :    Total time spent: 30 minutes '"
      ]
     },
     "execution_count": 16,
     "metadata": {},
     "output_type": "execute_result"
    }
   ],
   "source": [
    "notes[notes['hadm_id']==100003.0]['text'].all()"
   ]
  },
  {
   "cell_type": "code",
   "execution_count": 17,
   "metadata": {},
   "outputs": [
    {
     "data": {
      "text/plain": [
       "886.0"
      ]
     },
     "execution_count": 17,
     "metadata": {},
     "output_type": "execute_result"
    }
   ],
   "source": [
    "notes['iserror'].sum() #886 have errors small only"
   ]
  },
  {
   "cell_type": "code",
   "execution_count": 18,
   "metadata": {},
   "outputs": [],
   "source": [
    "notes=notes[notes.iserror!=1]"
   ]
  },
  {
   "cell_type": "code",
   "execution_count": 19,
   "metadata": {},
   "outputs": [
    {
     "data": {
      "text/plain": [
       "Index(['row_id', 'subject_id', 'hadm_id', 'chartdate', 'category',\n",
       "       'description', 'cgid', 'iserror', 'text'],\n",
       "      dtype='object')"
      ]
     },
     "execution_count": 19,
     "metadata": {},
     "output_type": "execute_result"
    }
   ],
   "source": [
    "notes.columns"
   ]
  },
  {
   "cell_type": "code",
   "execution_count": 20,
   "metadata": {
    "scrolled": true
   },
   "outputs": [
    {
     "data": {
      "text/plain": [
       "2082294"
      ]
     },
     "execution_count": 20,
     "metadata": {},
     "output_type": "execute_result"
    }
   ],
   "source": [
    "len(notes)"
   ]
  },
  {
   "cell_type": "code",
   "execution_count": 21,
   "metadata": {},
   "outputs": [],
   "source": [
    "#patients = patients.drop(['ROW_ID','DOD','DOD_HOSP','DOD_SSN','EXPIRE_FLAG'],axis=1)\n"
   ]
  },
  {
   "cell_type": "code",
   "execution_count": 22,
   "metadata": {},
   "outputs": [],
   "source": [
    "notes = notes.drop(['cgid','chartdate','iserror','row_id','description'],axis=1)"
   ]
  },
  {
   "cell_type": "code",
   "execution_count": 23,
   "metadata": {},
   "outputs": [
    {
     "data": {
      "text/plain": [
       "Index(['subject_id', 'hadm_id', 'category', 'text'], dtype='object')"
      ]
     },
     "execution_count": 23,
     "metadata": {},
     "output_type": "execute_result"
    }
   ],
   "source": [
    "notes.columns"
   ]
  },
  {
   "cell_type": "code",
   "execution_count": 24,
   "metadata": {},
   "outputs": [
    {
     "data": {
      "text/html": [
       "<div>\n",
       "<style scoped>\n",
       "    .dataframe tbody tr th:only-of-type {\n",
       "        vertical-align: middle;\n",
       "    }\n",
       "\n",
       "    .dataframe tbody tr th {\n",
       "        vertical-align: top;\n",
       "    }\n",
       "\n",
       "    .dataframe thead th {\n",
       "        text-align: right;\n",
       "    }\n",
       "</style>\n",
       "<table border=\"1\" class=\"dataframe\">\n",
       "  <thead>\n",
       "    <tr style=\"text-align: right;\">\n",
       "      <th></th>\n",
       "      <th>subject_id</th>\n",
       "      <th>hadm_id</th>\n",
       "      <th>category</th>\n",
       "      <th>text</th>\n",
       "    </tr>\n",
       "  </thead>\n",
       "  <tbody>\n",
       "    <tr>\n",
       "      <td>0</td>\n",
       "      <td>20007</td>\n",
       "      <td>188442.0</td>\n",
       "      <td>Discharge summary</td>\n",
       "      <td>Admission Date:  [**2183-9-25**]       Dischar...</td>\n",
       "    </tr>\n",
       "    <tr>\n",
       "      <td>1</td>\n",
       "      <td>20007</td>\n",
       "      <td>193793.0</td>\n",
       "      <td>Discharge summary</td>\n",
       "      <td>Admission Date:  [**2184-1-16**]       Dischar...</td>\n",
       "    </tr>\n",
       "    <tr>\n",
       "      <td>2</td>\n",
       "      <td>59883</td>\n",
       "      <td>118446.0</td>\n",
       "      <td>Discharge summary</td>\n",
       "      <td>Admission Date:  [**2103-4-11**]              ...</td>\n",
       "    </tr>\n",
       "    <tr>\n",
       "      <td>3</td>\n",
       "      <td>17043</td>\n",
       "      <td>157985.0</td>\n",
       "      <td>Discharge summary</td>\n",
       "      <td>Admission Date:  [**2103-10-7**]       Dischar...</td>\n",
       "    </tr>\n",
       "    <tr>\n",
       "      <td>4</td>\n",
       "      <td>7019</td>\n",
       "      <td>189488.0</td>\n",
       "      <td>Discharge summary</td>\n",
       "      <td>Admission Date:  [**2131-4-2**]              D...</td>\n",
       "    </tr>\n",
       "  </tbody>\n",
       "</table>\n",
       "</div>"
      ],
      "text/plain": [
       "   subject_id   hadm_id           category  \\\n",
       "0       20007  188442.0  Discharge summary   \n",
       "1       20007  193793.0  Discharge summary   \n",
       "2       59883  118446.0  Discharge summary   \n",
       "3       17043  157985.0  Discharge summary   \n",
       "4        7019  189488.0  Discharge summary   \n",
       "\n",
       "                                                text  \n",
       "0  Admission Date:  [**2183-9-25**]       Dischar...  \n",
       "1  Admission Date:  [**2184-1-16**]       Dischar...  \n",
       "2  Admission Date:  [**2103-4-11**]              ...  \n",
       "3  Admission Date:  [**2103-10-7**]       Dischar...  \n",
       "4  Admission Date:  [**2131-4-2**]              D...  "
      ]
     },
     "execution_count": 24,
     "metadata": {},
     "output_type": "execute_result"
    }
   ],
   "source": [
    "notes.head()"
   ]
  },
  {
   "cell_type": "code",
   "execution_count": 25,
   "metadata": {},
   "outputs": [],
   "source": [
    "notes_rad = notes[notes['category']=='Radiology']"
   ]
  },
  {
   "cell_type": "code",
   "execution_count": 26,
   "metadata": {},
   "outputs": [
    {
     "data": {
      "text/plain": [
       "522279"
      ]
     },
     "execution_count": 26,
     "metadata": {},
     "output_type": "execute_result"
    }
   ],
   "source": [
    "len(notes_rad)"
   ]
  },
  {
   "cell_type": "code",
   "execution_count": 27,
   "metadata": {},
   "outputs": [
    {
     "data": {
      "text/plain": [
       "Index(['subject_id', 'hadm_id', 'category', 'text'], dtype='object')"
      ]
     },
     "execution_count": 27,
     "metadata": {},
     "output_type": "execute_result"
    }
   ],
   "source": [
    "notes_rad.columns"
   ]
  },
  {
   "cell_type": "code",
   "execution_count": 28,
   "metadata": {},
   "outputs": [],
   "source": [
    "notes_rad = notes_rad.drop(['category'],axis=1)"
   ]
  },
  {
   "cell_type": "code",
   "execution_count": 29,
   "metadata": {},
   "outputs": [
    {
     "data": {
      "text/plain": [
       "Index(['subject_id', 'hadm_id', 'text'], dtype='object')"
      ]
     },
     "execution_count": 29,
     "metadata": {},
     "output_type": "execute_result"
    }
   ],
   "source": [
    "notes_rad.columns"
   ]
  },
  {
   "cell_type": "code",
   "execution_count": 30,
   "metadata": {
    "scrolled": true
   },
   "outputs": [
    {
     "name": "stderr",
     "output_type": "stream",
     "text": [
      "[nltk_data] Downloading package stopwords to\n",
      "[nltk_data]     /home/akshara/nltk_data...\n",
      "[nltk_data]   Package stopwords is already up-to-date!\n"
     ]
    },
    {
     "data": {
      "text/plain": [
       "True"
      ]
     },
     "execution_count": 30,
     "metadata": {},
     "output_type": "execute_result"
    }
   ],
   "source": [
    "import nltk\n",
    "nltk.download('stopwords')"
   ]
  },
  {
   "cell_type": "code",
   "execution_count": 31,
   "metadata": {},
   "outputs": [],
   "source": [
    "#from nltk.tokenize.toktok import ToktokTokenizer\n",
    "stopword_list = nltk.corpus.stopwords.words('english')\n",
    "#tokenizer = ToktokTokenizer()"
   ]
  },
  {
   "cell_type": "code",
   "execution_count": 32,
   "metadata": {
    "scrolled": true
   },
   "outputs": [
    {
     "data": {
      "text/plain": [
       "656937     [**Last Name (LF) **],[**First Name3 (LF) **] ...\n",
       "722336     [**2141-4-12**] 12:34 PM  [**Last Name (un) 26...\n",
       "722337     [**2196-3-30**] 12:45 PM  CT ABD W&W/O C; CT P...\n",
       "722399     [**2167-5-12**] 6:33 PM  LOWER EXTREMITY FLUOR...\n",
       "722591     [**2164-12-6**] 8:26 PM  CHEST (PORTABLE AP)  ...\n",
       "                                 ...                        \n",
       "1300424    [**2117-12-30**] 2:41 AM  CHEST (PA & LAT)    ...\n",
       "1300426    [**2145-1-25**] 5:51 PM  CHEST (PA & LAT); -76...\n",
       "1300427    [**2193-1-21**] 6:04 PM  CT ABD & PELVIS W/O C...\n",
       "1300428    [**2199-1-21**] 6:38 PM  CT CHEST W/CONTRAST; ...\n",
       "1300429    [**2121-1-13**] 11:36 PM  CTA CHEST W&W/O C&RE...\n",
       "Name: text, Length: 522279, dtype: object"
      ]
     },
     "execution_count": 32,
     "metadata": {},
     "output_type": "execute_result"
    }
   ],
   "source": [
    "notes_rad['text']"
   ]
  },
  {
   "cell_type": "code",
   "execution_count": 33,
   "metadata": {},
   "outputs": [],
   "source": [
    "notes_rad_txt = [notes_rad['text']]"
   ]
  },
  {
   "cell_type": "code",
   "execution_count": 34,
   "metadata": {},
   "outputs": [
    {
     "data": {
      "text/plain": [
       "656937    [**Last Name (LF) **],[**First Name3 (LF) **] ...\n",
       "722336    [**2141-4-12**] 12:34 PM  [**Last Name (un) 26...\n",
       "Name: text, dtype: object"
      ]
     },
     "execution_count": 34,
     "metadata": {},
     "output_type": "execute_result"
    }
   ],
   "source": [
    "notes_rad['text'][:2]"
   ]
  },
  {
   "cell_type": "code",
   "execution_count": 35,
   "metadata": {},
   "outputs": [
    {
     "data": {
      "text/plain": [
       "Index(['subject_id', 'hadm_id', 'text'], dtype='object')"
      ]
     },
     "execution_count": 35,
     "metadata": {},
     "output_type": "execute_result"
    }
   ],
   "source": [
    "notes_rad.columns"
   ]
  },
  {
   "cell_type": "code",
   "execution_count": 36,
   "metadata": {},
   "outputs": [
    {
     "data": {
      "text/html": [
       "<div>\n",
       "<style scoped>\n",
       "    .dataframe tbody tr th:only-of-type {\n",
       "        vertical-align: middle;\n",
       "    }\n",
       "\n",
       "    .dataframe tbody tr th {\n",
       "        vertical-align: top;\n",
       "    }\n",
       "\n",
       "    .dataframe thead th {\n",
       "        text-align: right;\n",
       "    }\n",
       "</style>\n",
       "<table border=\"1\" class=\"dataframe\">\n",
       "  <thead>\n",
       "    <tr style=\"text-align: right;\">\n",
       "      <th></th>\n",
       "      <th>subject_id</th>\n",
       "      <th>hadm_id</th>\n",
       "      <th>text</th>\n",
       "    </tr>\n",
       "  </thead>\n",
       "  <tbody>\n",
       "    <tr>\n",
       "      <td>656937</td>\n",
       "      <td>93207</td>\n",
       "      <td>104110.0</td>\n",
       "      <td>[**Last Name (LF) **],[**First Name3 (LF) **] ...</td>\n",
       "    </tr>\n",
       "    <tr>\n",
       "      <td>722336</td>\n",
       "      <td>9070</td>\n",
       "      <td>NaN</td>\n",
       "      <td>[**2141-4-12**] 12:34 PM  [**Last Name (un) 26...</td>\n",
       "    </tr>\n",
       "  </tbody>\n",
       "</table>\n",
       "</div>"
      ],
      "text/plain": [
       "        subject_id   hadm_id  \\\n",
       "656937       93207  104110.0   \n",
       "722336        9070       NaN   \n",
       "\n",
       "                                                     text  \n",
       "656937  [**Last Name (LF) **],[**First Name3 (LF) **] ...  \n",
       "722336  [**2141-4-12**] 12:34 PM  [**Last Name (un) 26...  "
      ]
     },
     "execution_count": 36,
     "metadata": {},
     "output_type": "execute_result"
    }
   ],
   "source": [
    "notes_rad[:2]"
   ]
  },
  {
   "cell_type": "code",
   "execution_count": 37,
   "metadata": {},
   "outputs": [
    {
     "data": {
      "text/plain": [
       "[656937     [**Last Name (LF) **],[**First Name3 (LF) **] ...\n",
       " 722336     [**2141-4-12**] 12:34 PM  [**Last Name (un) 26...\n",
       " 722337     [**2196-3-30**] 12:45 PM  CT ABD W&W/O C; CT P...\n",
       " 722399     [**2167-5-12**] 6:33 PM  LOWER EXTREMITY FLUOR...\n",
       " 722591     [**2164-12-6**] 8:26 PM  CHEST (PORTABLE AP)  ...\n",
       "                                  ...                        \n",
       " 1300424    [**2117-12-30**] 2:41 AM  CHEST (PA & LAT)    ...\n",
       " 1300426    [**2145-1-25**] 5:51 PM  CHEST (PA & LAT); -76...\n",
       " 1300427    [**2193-1-21**] 6:04 PM  CT ABD & PELVIS W/O C...\n",
       " 1300428    [**2199-1-21**] 6:38 PM  CT CHEST W/CONTRAST; ...\n",
       " 1300429    [**2121-1-13**] 11:36 PM  CTA CHEST W&W/O C&RE...\n",
       " Name: text, Length: 522279, dtype: object]"
      ]
     },
     "execution_count": 37,
     "metadata": {},
     "output_type": "execute_result"
    }
   ],
   "source": [
    "notes_rad_txt"
   ]
  },
  {
   "cell_type": "code",
   "execution_count": 38,
   "metadata": {},
   "outputs": [],
   "source": [
    "def preprocess_text(df):\n",
    "    df.text = df.text.fillna(' ')\n",
    "    df.text = df.text.str.replace('\\n',' ')\n",
    "    df.text = df.text.str.replace('\\r',' ')\n",
    "    return df\n",
    "notes_rad_txt = preprocess_text(notes_rad)"
   ]
  },
  {
   "cell_type": "code",
   "execution_count": 39,
   "metadata": {},
   "outputs": [
    {
     "name": "stdout",
     "output_type": "stream",
     "text": [
      "        subject_id   hadm_id  \\\n",
      "656937       93207  104110.0   \n",
      "722336        9070       NaN   \n",
      "722337       19929  101969.0   \n",
      "722399       13962  144625.0   \n",
      "722591        6451  183196.0   \n",
      "722710       14566  171329.0   \n",
      "726011         256       NaN   \n",
      "727659        9310  181380.0   \n",
      "727823       23781  195460.0   \n",
      "727929       24552       NaN   \n",
      "\n",
      "                                                     text  \n",
      "656937  [**Last Name (LF) **],[**First Name3 (LF) **] ...  \n",
      "722336  [**2141-4-12**] 12:34 PM  [**Last Name (un) 26...  \n",
      "722337  [**2196-3-30**] 12:45 PM  CT ABD W&W/O C; CT P...  \n",
      "722399  [**2167-5-12**] 6:33 PM  LOWER EXTREMITY FLUOR...  \n",
      "722591  [**2164-12-6**] 8:26 PM  CHEST (PORTABLE AP)  ...  \n",
      "722710  [**2177-12-11**] 8:27 PM  LOWER EXTREMITY FLUO...  \n",
      "726011  [**2163-12-6**] 12:07 PM  CHEST (PA & LAT)    ...  \n",
      "727659  [**2178-11-29**] 3:07 PM  HUMERUS (AP & LAT) L...  \n",
      "727823  [**2165-9-28**] 2:50 AM  CHEST (PORTABLE AP)  ...  \n",
      "727929  [**2153-1-12**] 10:03 PM  CHEST (PORTABLE AP) ...  \n"
     ]
    }
   ],
   "source": [
    "print(notes_rad_txt[:10])"
   ]
  },
  {
   "cell_type": "code",
   "execution_count": 40,
   "metadata": {},
   "outputs": [],
   "source": [
    "import nltk\n",
    "from nltk import word_tokenize"
   ]
  },
  {
   "cell_type": "code",
   "execution_count": 44,
   "metadata": {},
   "outputs": [
    {
     "data": {
      "text/plain": [
       "Index(['subject_id', 'hadm_id', 'text'], dtype='object')"
      ]
     },
     "execution_count": 44,
     "metadata": {},
     "output_type": "execute_result"
    }
   ],
   "source": [
    "notes_rad_txt.columns"
   ]
  },
  {
   "cell_type": "markdown",
   "metadata": {},
   "source": [
    "## tokenize and lemmatize"
   ]
  },
  {
   "cell_type": "code",
   "execution_count": 67,
   "metadata": {},
   "outputs": [],
   "source": [
    "import re\n",
    "def remstopwords(text):\n",
    "    text = re.sub('\\[\\*\\*[^\\]]*\\*\\*\\]', '', text)\n",
    "    text = re.sub('<[^>]*>', '', text)\n",
    "    text = re.sub('[\\W]+', ' ', text.lower()) \n",
    "    text = re.sub(\" \\d+\", \" \", text)\n",
    "    return \" \".join([i for i in text.split() if i not in stopword_list])\n",
    "notes_rad_txt['text']=notes_rad_txt['text'].apply(str)        \n",
    "#notes_rad_txt_clean = [remstopwords(x) for x in notes_rad_txt.text]\n"
   ]
  },
  {
   "cell_type": "code",
   "execution_count": 76,
   "metadata": {},
   "outputs": [],
   "source": [
    "notes_rad_txt[\"text\"] = notes_rad_txt[\"text\"].apply(lambda x: remstopwords(x))"
   ]
  },
  {
   "cell_type": "code",
   "execution_count": 79,
   "metadata": {},
   "outputs": [
    {
     "data": {
      "text/plain": [
       "656937    last name lf first name lf eu pm cta head w w ...\n",
       "722336    pm last name un dup extext bil map dvt clip cl...\n",
       "722337    pm ct abd w w c ct pelvis w contrast clip clip...\n",
       "722399    pm lower extremity fluoro without radiologist ...\n",
       "722591    pm chest portable ap clip clip number radiolog...\n",
       "722710    pm lower extremity fluoro without radiologist ...\n",
       "726011    pm chest pa lat clip clip number radiology rea...\n",
       "727659    pm humerus ap lat left port clip clip number r...\n",
       "727823    chest portable ap clip clip number radiology r...\n",
       "727929    pm chest portable ap clip clip number radiolog...\n",
       "727930    ct abdomen w contrast ct pelvis w contrast cli...\n",
       "727931    ct head w contrast clip clip number radiology ...\n",
       "728950    pm chest portable ap clip clip number radiolog...\n",
       "729391    chest portable ap clip clip number radiology r...\n",
       "729763    pm chest portable ap clip clip number radiolog...\n",
       "729897    pm chest portable ap clip clip number radiolog...\n",
       "729911    chest pa lat clip clip number radiology reason...\n",
       "730087    chest portable ap clip clip number radiology r...\n",
       "730188    chest portable ap clip clip number radiology r...\n",
       "730292    mr head w contrast clip clip number radiology ...\n",
       "Name: text, dtype: object"
      ]
     },
     "execution_count": 79,
     "metadata": {},
     "output_type": "execute_result"
    }
   ],
   "source": [
    "#notes_rad_txt[\"text\"].head()\n",
    "notes_rad_txt.text[:20]\n"
   ]
  },
  {
   "cell_type": "code",
   "execution_count": 68,
   "metadata": {},
   "outputs": [
    {
     "name": "stderr",
     "output_type": "stream",
     "text": [
      "IOPub data rate exceeded.\n",
      "The notebook server will temporarily stop sending output\n",
      "to the client in order to avoid crashing it.\n",
      "To change this limit, set the config variable\n",
      "`--NotebookApp.iopub_data_rate_limit`.\n",
      "\n",
      "Current values:\n",
      "NotebookApp.iopub_data_rate_limit=1000000.0 (bytes/sec)\n",
      "NotebookApp.rate_limit_window=3.0 (secs)\n",
      "\n"
     ]
    }
   ],
   "source": [
    "#print(notes_rad_txt_clean)"
   ]
  },
  {
   "cell_type": "code",
   "execution_count": 75,
   "metadata": {},
   "outputs": [
    {
     "data": {
      "text/plain": [
       "522279"
      ]
     },
     "execution_count": 75,
     "metadata": {},
     "output_type": "execute_result"
    }
   ],
   "source": [
    "#len(notes_rad_txt_clean)"
   ]
  },
  {
   "cell_type": "code",
   "execution_count": 70,
   "metadata": {},
   "outputs": [
    {
     "name": "stdout",
     "output_type": "stream",
     "text": [
      "['last name lf first name lf eu pm cta head w w c recons cta neck w w oc recons clip clip number radiology ct brain perfusion distinct procedural service reason eval ich cva contrast optiray amt hospital medical condition year old woman new onset dysarthria last known well reason examination eval ich cva contraindications iv contrast pfi report evidence acute infarct intracranial hemorrhage brain evidence focal flow limiting stenosis occlusion aneurysm greater mm arteries anterior posterior circulation head calcified plaque left distal common carotid artery causing approximately stenosis', 'pm last name un dup extext bil map dvt clip clip number radiology reason bilateral edema final report history bilateral leg edema findings duplex color doppler show lower extremity dvt bilaterally', 'pm ct abd w w c ct pelvis w contrast clip clip number radiology lab reconstructions reason p whipple biliary obstruction contrast optiray amt hospital medical condition year old man p whipple adeno ca papilla rtn w biliary obstruction biliary anastomosis p ptc please perform ct guided biopsy r malignancy reason examination ct guided biopsy final report history history adenocarcinoma papilla status post whipple biliary obstruction anastomosis technique helically acquired axial images obtained abdomen prior iv contrast following axial images obtained abdomen pelvis iv contrast multiplanar reformatted images created contrast cc optiray given due fast bolus rate injection ct abdomen w contrast small bilateral pleural effusions bibasilar atelectasis biliary pigtail catheter known lastname evidence intrahepatic ductal dilatation focal liver lesions seen remaining portion pancreas atrophic dilated pancreatic duct increase number lymph nodes paraesophageal celiac periportal regions one periportal lymph node abuts hepatic artery becomes intrahepatic tumor described mri correlates hepaticojejunal anastomosis portal vein patent trace amount ascites adjacent inferior edge liver high attenuation stranding also adjacent hepatic flexure colon may small amount hematoma recent ptc simply colonic bowel peritoneal deposits cannot excluded spleen adrenals normal kidneys enhance excrete symmetrically evidence masses hydronephrosis either kidney small subcentimeter retroperitoneal lymph nodes seen para aortic aortocaval location ct pelvis contrast small large bowel loops normal caliber without evidence suggest obstruction pm ct abd w w c ct pelvis w contrast clip clip number radiology lab reconstructions reason p whipple biliary obstruction contrast optiray amt final report cont suspicious osseous lesions seen impression findings consistent local recurrence increase number celiac periportal paraesophageal retroperitoneal lymph nodes tumor seen mri correlates hepaticojejunal anastomosis small periportal lymph nodes seen adjacent hepatic artery therefore felt safe biopsy high attenuation material stranding inferior edge liver may represent small amount hematoma recent ptc simply volume averaging adjacent bowel peritoneal deposits cannot excluded', 'pm lower extremity fluoro without radiologist r left clip clip number radiology reason attempted femoral nailing final report lower extremity fluoroscopy without radiologist performed aborted attempt femoral nailing performed minutes seconds fluoro time used images saved', 'pm chest portable ap clip clip number radiology reason p line placement final report revised indication status post line placement evaluate pneumothorax technique ap portable chest x ray findings right internal jugular central venous line tip located mid svc evidence pneumothorax radiograph otherwise unchanged compared prior study', 'pm lower extremity fluoro without radiologist left clip clip number radiology reason revisionleft leg doctor last name graft severe pain final report lower extremity fluoro performed without radiologist present minutes fluoro time used films submitted', 'pm chest pa lat clip clip number radiology reason f u lt base crackles final report chest two views pa lateral history crackles left lung base heart size normal evidence chf flattening diaphragms secondary copd pulmonary consolidation pleural effusion previously described small pleural subpleural density left lung base identified today exam impression copd evidence chf pneumonia', 'pm humerus ap lat left port clip clip number radiology reason p trauma hospital medical condition year old woman avr p mva p splenectomy reason examination p trauma final report left humerus history mva trauma pain single ap film demonstrates comminuted fracture greater tuberosity left humerus glenohumeral joint unremarkable single view', 'chest portable ap clip clip number radiology reason fever hospital medical condition year old man cva r pneumoniae reason examination fever final report portable chest indication cva fever heart normal size ng tube present terminating ge junction lungs clear fully expanded impression evidence pneumonia', 'pm chest portable ap clip clip number radiology reason p l scv cvl check line r ptx hospital medical condition year old woman gangrene rt foot p rt fem tib reason examination p l scv cvl check line r ptx final report clinical indication central venous catheter placement comparison made previous study one day earlier interval placement left subclavian central venous catheter terminates junction left brachiocephalic vein superior vena cava pneumothorax identified cardiac silhouette remains enlarged bilateral pleural effusions adjacent areas increased lung opacification well lower lobes note made previous mediansternotomy coronary bypass surgery impression central venous catheter terminates confluence left brachiocephalic vein superior vena cava pneumothorax persistent bilateral pleural effusions adjacent lung opacities likely reflect atelectasis although infectious process excluded proper clinical setting', 'ct abdomen w contrast ct pelvis w contrast clip clip number radiology ct coronal sagital obl reconstruction ct cc nonionic contrast reason evaluate diverticulitis contrast optiray amt hospital medical condition year old woman h diverticuli p recent admit diverticulitis lower gi bleed ct showed thickening stranding paracolic fluid left descending prox sigmoid colon worrisome diverticulitis vs ischemic bowel vs hemorrhage bowel wall presents recurrent llq pain diarrhea please evaluate diverticulitis perforation reason examination evaluate diverticulitis final report history diverticulitis technique helically acquired ct images lung bases pubic symphysis contrast ct abdomen contrast comparison made prior ct scan dated demonstrated lung bases mm calcified granuloma left base otherwise lungs clear pleural effusions liver spleen pancreas adrenals kidneys unremarkable seen large cm gallbladder stone gallbladder otherwise appears unremarkable bowel upper abdomen appear unremarkable free fluid seen ct pelvis contrast marked interval improvement thickened sigmoid colon seen prior study numerous diverticula minimal stranding sigmoid colon likely due clearing residual disease free fluid seen kidneys demonstrate bilateral symmetrical contrast excretion ureters seen course bladder filling defects bladder appears unremarkable free fluid present focal fluid collections identified bone windows bone demonstrate suspicious lytic blastic lesions impression interval improvement patient sigmoid disease mild stranding sigmoid colon likely related residua prior disease cannot rule early diverticulitis', 'ct head w contrast clip clip number radiology reason r cerebral edema central pontine myelinolysis mass hospital medical condition year old man p liver transplant w persistent decreased mental status reason examination r cerebral edema central pontine myelinolysis mass final report history year old man status post liver transplant persistent decreased mental status rule cerebral edema central pontine myelinolysis technique contiguous axial images head obtained without iv contrast skull base vertex ct head w contrast sulci ventricles appropriate patient age intra extraaxial fluid collections masses shift midline structures observed doctor last name white matter differentiation unremarkable impression evidence cerebral edema', 'pm chest portable ap clip clip number radiology reason p cvl change hospital medical condition year old woman r ptx p pulmonary thrombectomy p swan eval swan position reason examination p cvl change final report portable chest history pulmonary thrombectomy line change appreciable change appearance chest since prior chest x ray', 'chest portable ap clip clip number radiology reason please eval followup pt aspirated chewing throu hospital medical condition year old man p mvr tvr pericardectomy p ogt reposition ett aspiration reason examination please eval followup pt aspirated chewing et tube final report history aspiration appearance chest changed since prior chest x ray', 'pm chest portable ap clip clip number radiology reason p chest tube removal hospital medical condition year old man reason examination p chest tube removal final report history p chest tube removal evaluate pneumothorax chest bilateral pneumothoraces present larger hours previously lung apices lie level th posterior rib impression size pneumothoraces increasing', 'pm chest portable ap clip clip number radiology reason yo sob final report pa lateral chest radiograph indication shortness breath comparison heart enlarged mediastinal hilar contours normal pulmonary vascularity normal two focal mm densities overlie left mid lung zone likely representing calcified granulomas unchanged mentioned multiple prior reports several old right rib fractures noted impression acute cardiopulmonary process significant change', 'chest pa lat clip clip number radiology reason pre op vascular surgery hospital medical condition year old man iddm cad severe pvd reason examination pre op vascular surgery final report chest comparison prior study indication diabetes mellitus preop vascular surgery findings normal heart mediastinum lungs clear infiltrate effusion', 'chest portable ap clip clip number radiology reason p cabg w increased back pain r hemothorax hospital medical condition year old man p cabg reason examination p cabg w increased back pain r hemothorax final report history cabg back pain status post cabg cardiomegaly slight upper zone redistribution bilateral pleural effusions subsegmental atelectases present upper lobes pneumothorax', 'chest portable ap clip clip number radiology reason p cabg p chest tube removal hospital medical condition year old man reason examination p cabg p chest tube removal final report indication chest tube removal heart enlarged low lung volumes right ij sheath present terminating superior vena cava pneumothorax post cabg changes evident impression satisfactory postoperative appearance', 'mr head w contrast clip clip number radiology reason viewscope contrast magnevist amt final report history year old female metastatic lung cancer technique axial mp rage images obtained administration cc intravenous gadolinium per viewscope protocol comparison brain mri contrast wand study utilizing axial mp rage sequences purposes stereotactic surgery performed demonstrated multiple enhancing lesions left cerebral hemisphere cerebellum associated surrounding edema']\n"
     ]
    }
   ],
   "source": [
    "#print(notes_rad_txt_clean[:20])"
   ]
  },
  {
   "cell_type": "code",
   "execution_count": 82,
   "metadata": {
    "scrolled": true
   },
   "outputs": [
    {
     "name": "stderr",
     "output_type": "stream",
     "text": [
      "[nltk_data] Downloading package punkt to /home/akshara/nltk_data...\n",
      "[nltk_data]   Package punkt is already up-to-date!\n"
     ]
    }
   ],
   "source": [
    "from nltk.stem import WordNetLemmatizer,PorterStemmer\n",
    "lemmatizer = WordNetLemmatizer() \n",
    "stem = PorterStemmer()\n",
    "import string\n",
    "import nltk\n",
    "nltk.download('punkt')\n",
    "import string\n",
    "\n",
    "#i have a basic question,so what happens after u get tokens\n",
    "# after that, lemmatize, then feed to model is wjat i thought.\n",
    "#no even more basic,model gives mapping right basically cosine distances\n",
    "#so now that the model returns that how we gonna use it on the data??????\n",
    "# sorry, i switched tabs, presence of certain words is indicative of some specific disease rt?\n",
    "# we can judge the closeness of these words.. i'm not sure if that is what u r asking\n",
    "#how so? how can we judge didnt get it?how u gonna find those specific words"
   ]
  },
  {
   "cell_type": "code",
   "execution_count": 91,
   "metadata": {},
   "outputs": [],
   "source": [
    "def lemmatize_text(text):\n",
    "    return [lemmatizer.lemmatize(x) for x in text]\n",
    "    \n"
   ]
  },
  {
   "cell_type": "code",
   "execution_count": 74,
   "metadata": {},
   "outputs": [
    {
     "ename": "AttributeError",
     "evalue": "'list' object has no attribute 'columns'",
     "output_type": "error",
     "traceback": [
      "\u001b[0;31m---------------------------------------------------------------------------\u001b[0m",
      "\u001b[0;31mAttributeError\u001b[0m                            Traceback (most recent call last)",
      "\u001b[0;32m<ipython-input-74-8bf739316a0d>\u001b[0m in \u001b[0;36m<module>\u001b[0;34m\u001b[0m\n\u001b[0;32m----> 1\u001b[0;31m \u001b[0mnotes_rad_txt_clean\u001b[0m\u001b[0;34m.\u001b[0m\u001b[0mcolumns\u001b[0m\u001b[0;34m\u001b[0m\u001b[0;34m\u001b[0m\u001b[0m\n\u001b[0m",
      "\u001b[0;31mAttributeError\u001b[0m: 'list' object has no attribute 'columns'"
     ]
    }
   ],
   "source": [
    "#notes_rad_txt_clean"
   ]
  },
  {
   "cell_type": "code",
   "execution_count": 85,
   "metadata": {},
   "outputs": [],
   "source": [
    "notes_rad_txt[\"text\"] = notes_rad_txt[\"text\"].apply(lambda x: word_tokenize(x))"
   ]
  },
  {
   "cell_type": "code",
   "execution_count": 86,
   "metadata": {},
   "outputs": [
    {
     "data": {
      "text/plain": [
       "656937    [last, name, lf, first, name, lf, eu, pm, cta,...\n",
       "722336    [pm, last, name, un, dup, extext, bil, map, dv...\n",
       "722337    [pm, ct, abd, w, w, c, ct, pelvis, w, contrast...\n",
       "722399    [pm, lower, extremity, fluoro, without, radiol...\n",
       "722591    [pm, chest, portable, ap, clip, clip, number, ...\n",
       "722710    [pm, lower, extremity, fluoro, without, radiol...\n",
       "726011    [pm, chest, pa, lat, clip, clip, number, radio...\n",
       "727659    [pm, humerus, ap, lat, left, port, clip, clip,...\n",
       "727823    [chest, portable, ap, clip, clip, number, radi...\n",
       "727929    [pm, chest, portable, ap, clip, clip, number, ...\n",
       "727930    [ct, abdomen, w, contrast, ct, pelvis, w, cont...\n",
       "727931    [ct, head, w, contrast, clip, clip, number, ra...\n",
       "728950    [pm, chest, portable, ap, clip, clip, number, ...\n",
       "729391    [chest, portable, ap, clip, clip, number, radi...\n",
       "729763    [pm, chest, portable, ap, clip, clip, number, ...\n",
       "729897    [pm, chest, portable, ap, clip, clip, number, ...\n",
       "729911    [chest, pa, lat, clip, clip, number, radiology...\n",
       "730087    [chest, portable, ap, clip, clip, number, radi...\n",
       "730188    [chest, portable, ap, clip, clip, number, radi...\n",
       "730292    [mr, head, w, contrast, clip, clip, number, ra...\n",
       "Name: text, dtype: object"
      ]
     },
     "execution_count": 86,
     "metadata": {},
     "output_type": "execute_result"
    }
   ],
   "source": [
    "notes_rad_txt.text[:20]"
   ]
  },
  {
   "cell_type": "code",
   "execution_count": 92,
   "metadata": {},
   "outputs": [],
   "source": [
    "notes_rad_txt[\"text\"] = notes_rad_txt[\"text\"].apply(lambda x: lemmatize_text(x))\n",
    "# after this cant we do the padding thing? convert to numbers then pad with 0\n"
   ]
  },
  {
   "cell_type": "code",
   "execution_count": 94,
   "metadata": {},
   "outputs": [
    {
     "data": {
      "text/html": [
       "<div>\n",
       "<style scoped>\n",
       "    .dataframe tbody tr th:only-of-type {\n",
       "        vertical-align: middle;\n",
       "    }\n",
       "\n",
       "    .dataframe tbody tr th {\n",
       "        vertical-align: top;\n",
       "    }\n",
       "\n",
       "    .dataframe thead th {\n",
       "        text-align: right;\n",
       "    }\n",
       "</style>\n",
       "<table border=\"1\" class=\"dataframe\">\n",
       "  <thead>\n",
       "    <tr style=\"text-align: right;\">\n",
       "      <th></th>\n",
       "      <th>subject_id</th>\n",
       "      <th>hadm_id</th>\n",
       "      <th>text</th>\n",
       "    </tr>\n",
       "  </thead>\n",
       "  <tbody>\n",
       "    <tr>\n",
       "      <td>656937</td>\n",
       "      <td>93207</td>\n",
       "      <td>104110.0</td>\n",
       "      <td>[last, name, lf, first, name, lf, eu, pm, cta,...</td>\n",
       "    </tr>\n",
       "    <tr>\n",
       "      <td>722336</td>\n",
       "      <td>9070</td>\n",
       "      <td>NaN</td>\n",
       "      <td>[pm, last, name, un, dup, extext, bil, map, dv...</td>\n",
       "    </tr>\n",
       "    <tr>\n",
       "      <td>722337</td>\n",
       "      <td>19929</td>\n",
       "      <td>101969.0</td>\n",
       "      <td>[pm, ct, abd, w, w, c, ct, pelvis, w, contrast...</td>\n",
       "    </tr>\n",
       "    <tr>\n",
       "      <td>722399</td>\n",
       "      <td>13962</td>\n",
       "      <td>144625.0</td>\n",
       "      <td>[pm, lower, extremity, fluoro, without, radiol...</td>\n",
       "    </tr>\n",
       "    <tr>\n",
       "      <td>722591</td>\n",
       "      <td>6451</td>\n",
       "      <td>183196.0</td>\n",
       "      <td>[pm, chest, portable, ap, clip, clip, number, ...</td>\n",
       "    </tr>\n",
       "  </tbody>\n",
       "</table>\n",
       "</div>"
      ],
      "text/plain": [
       "        subject_id   hadm_id  \\\n",
       "656937       93207  104110.0   \n",
       "722336        9070       NaN   \n",
       "722337       19929  101969.0   \n",
       "722399       13962  144625.0   \n",
       "722591        6451  183196.0   \n",
       "\n",
       "                                                     text  \n",
       "656937  [last, name, lf, first, name, lf, eu, pm, cta,...  \n",
       "722336  [pm, last, name, un, dup, extext, bil, map, dv...  \n",
       "722337  [pm, ct, abd, w, w, c, ct, pelvis, w, contrast...  \n",
       "722399  [pm, lower, extremity, fluoro, without, radiol...  \n",
       "722591  [pm, chest, portable, ap, clip, clip, number, ...  "
      ]
     },
     "execution_count": 94,
     "metadata": {},
     "output_type": "execute_result"
    }
   ],
   "source": [
    "notes_rad_txt.head()\n"
   ]
  },
  {
   "cell_type": "code",
   "execution_count": 95,
   "metadata": {},
   "outputs": [
    {
     "data": {
      "text/plain": [
       "143359"
      ]
     },
     "execution_count": 95,
     "metadata": {},
     "output_type": "execute_result"
    }
   ],
   "source": [
    "notes_rad_txt.hadm_id.isna().sum()\n"
   ]
  },
  {
   "cell_type": "code",
   "execution_count": 105,
   "metadata": {},
   "outputs": [
    {
     "data": {
      "text/plain": [
       "Index(['subject_id', 'hadm_id', 'text'], dtype='object')"
      ]
     },
     "execution_count": 105,
     "metadata": {},
     "output_type": "execute_result"
    }
   ],
   "source": [
    "notes_rad_txt.columns"
   ]
  },
  {
   "cell_type": "code",
   "execution_count": 100,
   "metadata": {},
   "outputs": [],
   "source": [
    "# dropped rows with Nan HADM_ID\n",
    "notes_rad_txt = notes_rad_txt.dropna(subset = ['hadm_id'], axis=0)"
   ]
  },
  {
   "cell_type": "code",
   "execution_count": 103,
   "metadata": {},
   "outputs": [
    {
     "data": {
      "text/plain": [
       "subject_id      1\n",
       "hadm_id         1\n",
       "text          186\n",
       "dtype: int64"
      ]
     },
     "execution_count": 103,
     "metadata": {},
     "output_type": "execute_result"
    }
   ],
   "source": [
    "notes_rad_txt.groupby(\"hadm_id\").nunique().max()"
   ]
  },
  {
   "cell_type": "code",
   "execution_count": 108,
   "metadata": {},
   "outputs": [],
   "source": [
    "aggregation_functions = {'text': 'sum'}\n",
    "combined_notes_rad = notes_rad_txt.groupby(notes_rad_txt['hadm_id']).aggregate(aggregation_functions)"
   ]
  },
  {
   "cell_type": "code",
   "execution_count": 109,
   "metadata": {},
   "outputs": [
    {
     "data": {
      "text/plain": [
       "(378920, 3)"
      ]
     },
     "execution_count": 109,
     "metadata": {},
     "output_type": "execute_result"
    }
   ],
   "source": [
    "notes_rad_txt.shape"
   ]
  },
  {
   "cell_type": "code",
   "execution_count": 115,
   "metadata": {},
   "outputs": [
    {
     "data": {
      "text/plain": [
       "(45526, 1)"
      ]
     },
     "execution_count": 115,
     "metadata": {},
     "output_type": "execute_result"
    }
   ],
   "source": [
    "# combined_notes_rad-after combining texts according to hadm_id\n",
    "combined_notes_rad.shape"
   ]
  },
  {
   "cell_type": "code",
   "execution_count": 118,
   "metadata": {},
   "outputs": [
    {
     "data": {
      "text/html": [
       "<div>\n",
       "<style scoped>\n",
       "    .dataframe tbody tr th:only-of-type {\n",
       "        vertical-align: middle;\n",
       "    }\n",
       "\n",
       "    .dataframe tbody tr th {\n",
       "        vertical-align: top;\n",
       "    }\n",
       "\n",
       "    .dataframe thead th {\n",
       "        text-align: right;\n",
       "    }\n",
       "</style>\n",
       "<table border=\"1\" class=\"dataframe\">\n",
       "  <thead>\n",
       "    <tr style=\"text-align: right;\">\n",
       "      <th></th>\n",
       "      <th>text</th>\n",
       "    </tr>\n",
       "    <tr>\n",
       "      <th>hadm_id</th>\n",
       "      <th></th>\n",
       "    </tr>\n",
       "  </thead>\n",
       "  <tbody>\n",
       "    <tr>\n",
       "      <td>100001.0</td>\n",
       "      <td>[chest, pa, lat, clip, clip, number, radiology...</td>\n",
       "    </tr>\n",
       "    <tr>\n",
       "      <td>100003.0</td>\n",
       "      <td>[pm, liver, gallbladder, u, single, organ, cli...</td>\n",
       "    </tr>\n",
       "    <tr>\n",
       "      <td>100006.0</td>\n",
       "      <td>[chest, portable, ap, clip, clip, number, radi...</td>\n",
       "    </tr>\n",
       "    <tr>\n",
       "      <td>100009.0</td>\n",
       "      <td>[pm, chest, pa, lat, clip, clip, number, radio...</td>\n",
       "    </tr>\n",
       "    <tr>\n",
       "      <td>100010.0</td>\n",
       "      <td>[pm, chest, portable, ap, different, physician...</td>\n",
       "    </tr>\n",
       "  </tbody>\n",
       "</table>\n",
       "</div>"
      ],
      "text/plain": [
       "                                                       text\n",
       "hadm_id                                                    \n",
       "100001.0  [chest, pa, lat, clip, clip, number, radiology...\n",
       "100003.0  [pm, liver, gallbladder, u, single, organ, cli...\n",
       "100006.0  [chest, portable, ap, clip, clip, number, radi...\n",
       "100009.0  [pm, chest, pa, lat, clip, clip, number, radio...\n",
       "100010.0  [pm, chest, portable, ap, different, physician..."
      ]
     },
     "execution_count": 118,
     "metadata": {},
     "output_type": "execute_result"
    }
   ],
   "source": [
    "combined_notes_rad.head()"
   ]
  },
  {
   "cell_type": "code",
   "execution_count": 125,
   "metadata": {},
   "outputs": [],
   "source": [
    "df = pd.read_pickle(\"./dataset_with_hadm.pkl\")"
   ]
  },
  {
   "cell_type": "code",
   "execution_count": 127,
   "metadata": {},
   "outputs": [],
   "source": [
    "df = df.drop(\"SUBJECT_ID\", axis = 1)"
   ]
  },
  {
   "cell_type": "code",
   "execution_count": 128,
   "metadata": {},
   "outputs": [
    {
     "data": {
      "text/plain": [
       "(58976, 504)"
      ]
     },
     "execution_count": 128,
     "metadata": {},
     "output_type": "execute_result"
    }
   ],
   "source": [
    "df.shape"
   ]
  },
  {
   "cell_type": "code",
   "execution_count": 131,
   "metadata": {},
   "outputs": [],
   "source": [
    "combined_dataset = pd.merge(combined_notes_rad, df, how = 'left', left_index = True, right_on = \"HADM_ID\")"
   ]
  },
  {
   "cell_type": "code",
   "execution_count": 133,
   "metadata": {},
   "outputs": [
    {
     "data": {
      "text/plain": [
       "(45526, 505)"
      ]
     },
     "execution_count": 133,
     "metadata": {},
     "output_type": "execute_result"
    }
   ],
   "source": [
    "combined_dataset.shape"
   ]
  },
  {
   "cell_type": "code",
   "execution_count": 135,
   "metadata": {},
   "outputs": [
    {
     "data": {
      "text/plain": [
       "Index([          'text',        'HADM_ID', 'ADMISSION_DAYS',         'GENDER',\n",
       "                  'AGE',            50801,            50802,            50803,\n",
       "                  50804,            50805,\n",
       "       ...\n",
       "                  'G11',            'G12',            'G13',            'G14',\n",
       "                  'G15',            'G16',            'G17',            'G18',\n",
       "                  'G19',            'G20'],\n",
       "      dtype='object', length=505)"
      ]
     },
     "execution_count": 135,
     "metadata": {},
     "output_type": "execute_result"
    }
   ],
   "source": [
    "combined_dataset.columns"
   ]
  },
  {
   "cell_type": "markdown",
   "metadata": {},
   "source": [
    "#wait first lets get this into a pkl file"
   ]
  },
  {
   "cell_type": "code",
   "execution_count": 137,
   "metadata": {},
   "outputs": [],
   "source": [
    "combined_dataset.to_pickle('./combined_dataset_notes.pkl')"
   ]
  },
  {
   "cell_type": "code",
   "execution_count": 136,
   "metadata": {},
   "outputs": [
    {
     "data": {
      "text/html": [
       "<div>\n",
       "<style scoped>\n",
       "    .dataframe tbody tr th:only-of-type {\n",
       "        vertical-align: middle;\n",
       "    }\n",
       "\n",
       "    .dataframe tbody tr th {\n",
       "        vertical-align: top;\n",
       "    }\n",
       "\n",
       "    .dataframe thead th {\n",
       "        text-align: right;\n",
       "    }\n",
       "</style>\n",
       "<table border=\"1\" class=\"dataframe\">\n",
       "  <thead>\n",
       "    <tr style=\"text-align: right;\">\n",
       "      <th></th>\n",
       "      <th>text</th>\n",
       "      <th>HADM_ID</th>\n",
       "      <th>ADMISSION_DAYS</th>\n",
       "      <th>GENDER</th>\n",
       "      <th>AGE</th>\n",
       "      <th>50801</th>\n",
       "      <th>50802</th>\n",
       "      <th>50803</th>\n",
       "      <th>50804</th>\n",
       "      <th>50805</th>\n",
       "      <th>...</th>\n",
       "      <th>G11</th>\n",
       "      <th>G12</th>\n",
       "      <th>G13</th>\n",
       "      <th>G14</th>\n",
       "      <th>G15</th>\n",
       "      <th>G16</th>\n",
       "      <th>G17</th>\n",
       "      <th>G18</th>\n",
       "      <th>G19</th>\n",
       "      <th>G20</th>\n",
       "    </tr>\n",
       "  </thead>\n",
       "  <tbody>\n",
       "    <tr>\n",
       "      <td>47366</td>\n",
       "      <td>[chest, pa, lat, clip, clip, number, radiology...</td>\n",
       "      <td>100001</td>\n",
       "      <td>7</td>\n",
       "      <td>0</td>\n",
       "      <td>35</td>\n",
       "      <td>462.0</td>\n",
       "      <td>0.0</td>\n",
       "      <td>24.0</td>\n",
       "      <td>26.0</td>\n",
       "      <td>1.0</td>\n",
       "      <td>...</td>\n",
       "      <td>0</td>\n",
       "      <td>1</td>\n",
       "      <td>0</td>\n",
       "      <td>0</td>\n",
       "      <td>0</td>\n",
       "      <td>0</td>\n",
       "      <td>0</td>\n",
       "      <td>0</td>\n",
       "      <td>0</td>\n",
       "      <td>1</td>\n",
       "    </tr>\n",
       "    <tr>\n",
       "      <td>47024</td>\n",
       "      <td>[pm, liver, gallbladder, u, single, organ, cli...</td>\n",
       "      <td>100003</td>\n",
       "      <td>5</td>\n",
       "      <td>1</td>\n",
       "      <td>60</td>\n",
       "      <td>462.0</td>\n",
       "      <td>-6.0</td>\n",
       "      <td>24.0</td>\n",
       "      <td>17.0</td>\n",
       "      <td>1.0</td>\n",
       "      <td>...</td>\n",
       "      <td>0</td>\n",
       "      <td>1</td>\n",
       "      <td>0</td>\n",
       "      <td>0</td>\n",
       "      <td>0</td>\n",
       "      <td>1</td>\n",
       "      <td>0</td>\n",
       "      <td>0</td>\n",
       "      <td>0</td>\n",
       "      <td>0</td>\n",
       "    </tr>\n",
       "    <tr>\n",
       "      <td>9046</td>\n",
       "      <td>[chest, portable, ap, clip, clip, number, radi...</td>\n",
       "      <td>100006</td>\n",
       "      <td>13</td>\n",
       "      <td>0</td>\n",
       "      <td>49</td>\n",
       "      <td>462.0</td>\n",
       "      <td>0.0</td>\n",
       "      <td>24.0</td>\n",
       "      <td>26.0</td>\n",
       "      <td>1.0</td>\n",
       "      <td>...</td>\n",
       "      <td>0</td>\n",
       "      <td>0</td>\n",
       "      <td>0</td>\n",
       "      <td>0</td>\n",
       "      <td>0</td>\n",
       "      <td>1</td>\n",
       "      <td>0</td>\n",
       "      <td>0</td>\n",
       "      <td>0</td>\n",
       "      <td>1</td>\n",
       "    </tr>\n",
       "    <tr>\n",
       "      <td>843</td>\n",
       "      <td>[pm, chest, pa, lat, clip, clip, number, radio...</td>\n",
       "      <td>100009</td>\n",
       "      <td>5</td>\n",
       "      <td>1</td>\n",
       "      <td>61</td>\n",
       "      <td>462.0</td>\n",
       "      <td>2.0</td>\n",
       "      <td>24.0</td>\n",
       "      <td>28.0</td>\n",
       "      <td>1.0</td>\n",
       "      <td>...</td>\n",
       "      <td>0</td>\n",
       "      <td>0</td>\n",
       "      <td>0</td>\n",
       "      <td>0</td>\n",
       "      <td>0</td>\n",
       "      <td>0</td>\n",
       "      <td>0</td>\n",
       "      <td>1</td>\n",
       "      <td>0</td>\n",
       "      <td>1</td>\n",
       "    </tr>\n",
       "    <tr>\n",
       "      <td>43466</td>\n",
       "      <td>[pm, chest, portable, ap, different, physician...</td>\n",
       "      <td>100010</td>\n",
       "      <td>5</td>\n",
       "      <td>0</td>\n",
       "      <td>54</td>\n",
       "      <td>462.0</td>\n",
       "      <td>0.0</td>\n",
       "      <td>23.0</td>\n",
       "      <td>25.0</td>\n",
       "      <td>1.0</td>\n",
       "      <td>...</td>\n",
       "      <td>0</td>\n",
       "      <td>0</td>\n",
       "      <td>0</td>\n",
       "      <td>0</td>\n",
       "      <td>0</td>\n",
       "      <td>0</td>\n",
       "      <td>0</td>\n",
       "      <td>0</td>\n",
       "      <td>0</td>\n",
       "      <td>0</td>\n",
       "    </tr>\n",
       "    <tr>\n",
       "      <td>...</td>\n",
       "      <td>...</td>\n",
       "      <td>...</td>\n",
       "      <td>...</td>\n",
       "      <td>...</td>\n",
       "      <td>...</td>\n",
       "      <td>...</td>\n",
       "      <td>...</td>\n",
       "      <td>...</td>\n",
       "      <td>...</td>\n",
       "      <td>...</td>\n",
       "      <td>...</td>\n",
       "      <td>...</td>\n",
       "      <td>...</td>\n",
       "      <td>...</td>\n",
       "      <td>...</td>\n",
       "      <td>...</td>\n",
       "      <td>...</td>\n",
       "      <td>...</td>\n",
       "      <td>...</td>\n",
       "      <td>...</td>\n",
       "      <td>...</td>\n",
       "    </tr>\n",
       "    <tr>\n",
       "      <td>24035</td>\n",
       "      <td>[chest, portable, ap, clip, clip, number, radi...</td>\n",
       "      <td>199993</td>\n",
       "      <td>25</td>\n",
       "      <td>1</td>\n",
       "      <td>60</td>\n",
       "      <td>653.0</td>\n",
       "      <td>1.0</td>\n",
       "      <td>26.0</td>\n",
       "      <td>28.0</td>\n",
       "      <td>1.3</td>\n",
       "      <td>...</td>\n",
       "      <td>0</td>\n",
       "      <td>0</td>\n",
       "      <td>0</td>\n",
       "      <td>0</td>\n",
       "      <td>0</td>\n",
       "      <td>0</td>\n",
       "      <td>0</td>\n",
       "      <td>0</td>\n",
       "      <td>0</td>\n",
       "      <td>0</td>\n",
       "    </tr>\n",
       "    <tr>\n",
       "      <td>30073</td>\n",
       "      <td>[pm, chest, portable, ap, clip, clip, number, ...</td>\n",
       "      <td>199994</td>\n",
       "      <td>10</td>\n",
       "      <td>0</td>\n",
       "      <td>58</td>\n",
       "      <td>343.0</td>\n",
       "      <td>-3.0</td>\n",
       "      <td>24.0</td>\n",
       "      <td>28.0</td>\n",
       "      <td>1.0</td>\n",
       "      <td>...</td>\n",
       "      <td>0</td>\n",
       "      <td>0</td>\n",
       "      <td>0</td>\n",
       "      <td>0</td>\n",
       "      <td>0</td>\n",
       "      <td>0</td>\n",
       "      <td>0</td>\n",
       "      <td>0</td>\n",
       "      <td>0</td>\n",
       "      <td>0</td>\n",
       "    </tr>\n",
       "    <tr>\n",
       "      <td>25219</td>\n",
       "      <td>[pm, abdomen, u, complete, study, duplex, dopp...</td>\n",
       "      <td>199995</td>\n",
       "      <td>17</td>\n",
       "      <td>1</td>\n",
       "      <td>23</td>\n",
       "      <td>240.0</td>\n",
       "      <td>4.0</td>\n",
       "      <td>24.0</td>\n",
       "      <td>29.0</td>\n",
       "      <td>1.0</td>\n",
       "      <td>...</td>\n",
       "      <td>0</td>\n",
       "      <td>0</td>\n",
       "      <td>0</td>\n",
       "      <td>1</td>\n",
       "      <td>0</td>\n",
       "      <td>0</td>\n",
       "      <td>0</td>\n",
       "      <td>0</td>\n",
       "      <td>0</td>\n",
       "      <td>1</td>\n",
       "    </tr>\n",
       "    <tr>\n",
       "      <td>33394</td>\n",
       "      <td>[pm, chest, port, line, placement, clip, clip,...</td>\n",
       "      <td>199998</td>\n",
       "      <td>6</td>\n",
       "      <td>1</td>\n",
       "      <td>70</td>\n",
       "      <td>462.0</td>\n",
       "      <td>2.0</td>\n",
       "      <td>24.0</td>\n",
       "      <td>26.0</td>\n",
       "      <td>1.0</td>\n",
       "      <td>...</td>\n",
       "      <td>0</td>\n",
       "      <td>0</td>\n",
       "      <td>0</td>\n",
       "      <td>0</td>\n",
       "      <td>0</td>\n",
       "      <td>1</td>\n",
       "      <td>0</td>\n",
       "      <td>1</td>\n",
       "      <td>1</td>\n",
       "      <td>1</td>\n",
       "    </tr>\n",
       "    <tr>\n",
       "      <td>38164</td>\n",
       "      <td>[chest, portable, ap, clip, clip, number, radi...</td>\n",
       "      <td>199999</td>\n",
       "      <td>6</td>\n",
       "      <td>1</td>\n",
       "      <td>89</td>\n",
       "      <td>588.0</td>\n",
       "      <td>1.0</td>\n",
       "      <td>24.0</td>\n",
       "      <td>25.0</td>\n",
       "      <td>1.0</td>\n",
       "      <td>...</td>\n",
       "      <td>0</td>\n",
       "      <td>0</td>\n",
       "      <td>0</td>\n",
       "      <td>0</td>\n",
       "      <td>0</td>\n",
       "      <td>1</td>\n",
       "      <td>1</td>\n",
       "      <td>0</td>\n",
       "      <td>0</td>\n",
       "      <td>1</td>\n",
       "    </tr>\n",
       "  </tbody>\n",
       "</table>\n",
       "<p>45526 rows × 505 columns</p>\n",
       "</div>"
      ],
      "text/plain": [
       "                                                    text  HADM_ID  \\\n",
       "47366  [chest, pa, lat, clip, clip, number, radiology...   100001   \n",
       "47024  [pm, liver, gallbladder, u, single, organ, cli...   100003   \n",
       "9046   [chest, portable, ap, clip, clip, number, radi...   100006   \n",
       "843    [pm, chest, pa, lat, clip, clip, number, radio...   100009   \n",
       "43466  [pm, chest, portable, ap, different, physician...   100010   \n",
       "...                                                  ...      ...   \n",
       "24035  [chest, portable, ap, clip, clip, number, radi...   199993   \n",
       "30073  [pm, chest, portable, ap, clip, clip, number, ...   199994   \n",
       "25219  [pm, abdomen, u, complete, study, duplex, dopp...   199995   \n",
       "33394  [pm, chest, port, line, placement, clip, clip,...   199998   \n",
       "38164  [chest, portable, ap, clip, clip, number, radi...   199999   \n",
       "\n",
       "       ADMISSION_DAYS  GENDER  AGE  50801  50802  50803  50804  50805  ...  \\\n",
       "47366               7       0   35  462.0    0.0   24.0   26.0    1.0  ...   \n",
       "47024               5       1   60  462.0   -6.0   24.0   17.0    1.0  ...   \n",
       "9046               13       0   49  462.0    0.0   24.0   26.0    1.0  ...   \n",
       "843                 5       1   61  462.0    2.0   24.0   28.0    1.0  ...   \n",
       "43466               5       0   54  462.0    0.0   23.0   25.0    1.0  ...   \n",
       "...               ...     ...  ...    ...    ...    ...    ...    ...  ...   \n",
       "24035              25       1   60  653.0    1.0   26.0   28.0    1.3  ...   \n",
       "30073              10       0   58  343.0   -3.0   24.0   28.0    1.0  ...   \n",
       "25219              17       1   23  240.0    4.0   24.0   29.0    1.0  ...   \n",
       "33394               6       1   70  462.0    2.0   24.0   26.0    1.0  ...   \n",
       "38164               6       1   89  588.0    1.0   24.0   25.0    1.0  ...   \n",
       "\n",
       "       G11  G12  G13  G14  G15  G16  G17  G18  G19  G20  \n",
       "47366    0    1    0    0    0    0    0    0    0    1  \n",
       "47024    0    1    0    0    0    1    0    0    0    0  \n",
       "9046     0    0    0    0    0    1    0    0    0    1  \n",
       "843      0    0    0    0    0    0    0    1    0    1  \n",
       "43466    0    0    0    0    0    0    0    0    0    0  \n",
       "...    ...  ...  ...  ...  ...  ...  ...  ...  ...  ...  \n",
       "24035    0    0    0    0    0    0    0    0    0    0  \n",
       "30073    0    0    0    0    0    0    0    0    0    0  \n",
       "25219    0    0    0    1    0    0    0    0    0    1  \n",
       "33394    0    0    0    0    0    1    0    1    1    1  \n",
       "38164    0    0    0    0    0    1    1    0    0    1  \n",
       "\n",
       "[45526 rows x 505 columns]"
      ]
     },
     "execution_count": 136,
     "metadata": {},
     "output_type": "execute_result"
    }
   ],
   "source": [
    "combined_dataset"
   ]
  },
  {
   "cell_type": "code",
   "execution_count": null,
   "metadata": {},
   "outputs": [],
   "source": [
    "import gensim\n",
    "model = gensim.models.Word2Vec(\n",
    "        documents,\n",
    "        size=150,\n",
    "        window=10,\n",
    "        min_count=2,\n",
    "        workers=10,\n",
    "        iter=10)\n",
    "\n"
   ]
  }
 ],
 "metadata": {
  "kernelspec": {
   "display_name": "Python (mimic)",
   "language": "python",
   "name": "myenv"
  },
  "language_info": {
   "codemirror_mode": {
    "name": "ipython",
    "version": 3
   },
   "file_extension": ".py",
   "mimetype": "text/x-python",
   "name": "python",
   "nbconvert_exporter": "python",
   "pygments_lexer": "ipython3",
   "version": "3.7.4"
  }
 },
 "nbformat": 4,
 "nbformat_minor": 2
}
